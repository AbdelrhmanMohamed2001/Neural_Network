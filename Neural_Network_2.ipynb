{
  "cells": [
    {
      "cell_type": "code",
      "execution_count": 21,
      "metadata": {
        "id": "DKIbg5y_eeS4"
      },
      "outputs": [],
      "source": [
        "import numpy as np\n",
        "import pandas as pd\n",
        "import matplotlib.pyplot as plt\n",
        "from sklearn.model_selection import train_test_split"
      ]
    },
    {
      "cell_type": "code",
      "execution_count": 22,
      "metadata": {
        "id": "WLN6Thv6e9zJ"
      },
      "outputs": [],
      "source": [
        "data = pd.read_csv('/content/train.csv')"
      ]
    },
    {
      "cell_type": "code",
      "execution_count": 23,
      "metadata": {
        "colab": {
          "base_uri": "https://localhost:8080/",
          "height": 236
        },
        "id": "Pc6yhJ5dfMVQ",
        "outputId": "062e5313-20e5-4cc2-f7cd-70000c7e2fdb"
      },
      "outputs": [
        {
          "output_type": "execute_result",
          "data": {
            "text/plain": [
              "   label  pixel0  pixel1  pixel2  pixel3  pixel4  pixel5  pixel6  pixel7  \\\n",
              "0      1       0       0       0       0       0       0       0       0   \n",
              "1      0       0       0       0       0       0       0       0       0   \n",
              "2      1       0       0       0       0       0       0       0       0   \n",
              "3      4       0       0       0       0       0       0       0       0   \n",
              "4      0       0       0       0       0       0       0       0       0   \n",
              "\n",
              "   pixel8  ...  pixel774  pixel775  pixel776  pixel777  pixel778  pixel779  \\\n",
              "0       0  ...       0.0       0.0       0.0       0.0       0.0       0.0   \n",
              "1       0  ...       0.0       0.0       0.0       0.0       0.0       0.0   \n",
              "2       0  ...       0.0       0.0       0.0       0.0       0.0       0.0   \n",
              "3       0  ...       0.0       0.0       0.0       0.0       0.0       0.0   \n",
              "4       0  ...       0.0       0.0       0.0       0.0       0.0       0.0   \n",
              "\n",
              "   pixel780  pixel781  pixel782  pixel783  \n",
              "0       0.0       0.0       0.0       0.0  \n",
              "1       0.0       0.0       0.0       0.0  \n",
              "2       0.0       0.0       0.0       0.0  \n",
              "3       0.0       0.0       0.0       0.0  \n",
              "4       0.0       0.0       0.0       0.0  \n",
              "\n",
              "[5 rows x 785 columns]"
            ],
            "text/html": [
              "\n",
              "  <div id=\"df-979f5a7d-4432-4d95-ac8b-8ee099cda314\">\n",
              "    <div class=\"colab-df-container\">\n",
              "      <div>\n",
              "<style scoped>\n",
              "    .dataframe tbody tr th:only-of-type {\n",
              "        vertical-align: middle;\n",
              "    }\n",
              "\n",
              "    .dataframe tbody tr th {\n",
              "        vertical-align: top;\n",
              "    }\n",
              "\n",
              "    .dataframe thead th {\n",
              "        text-align: right;\n",
              "    }\n",
              "</style>\n",
              "<table border=\"1\" class=\"dataframe\">\n",
              "  <thead>\n",
              "    <tr style=\"text-align: right;\">\n",
              "      <th></th>\n",
              "      <th>label</th>\n",
              "      <th>pixel0</th>\n",
              "      <th>pixel1</th>\n",
              "      <th>pixel2</th>\n",
              "      <th>pixel3</th>\n",
              "      <th>pixel4</th>\n",
              "      <th>pixel5</th>\n",
              "      <th>pixel6</th>\n",
              "      <th>pixel7</th>\n",
              "      <th>pixel8</th>\n",
              "      <th>...</th>\n",
              "      <th>pixel774</th>\n",
              "      <th>pixel775</th>\n",
              "      <th>pixel776</th>\n",
              "      <th>pixel777</th>\n",
              "      <th>pixel778</th>\n",
              "      <th>pixel779</th>\n",
              "      <th>pixel780</th>\n",
              "      <th>pixel781</th>\n",
              "      <th>pixel782</th>\n",
              "      <th>pixel783</th>\n",
              "    </tr>\n",
              "  </thead>\n",
              "  <tbody>\n",
              "    <tr>\n",
              "      <th>0</th>\n",
              "      <td>1</td>\n",
              "      <td>0</td>\n",
              "      <td>0</td>\n",
              "      <td>0</td>\n",
              "      <td>0</td>\n",
              "      <td>0</td>\n",
              "      <td>0</td>\n",
              "      <td>0</td>\n",
              "      <td>0</td>\n",
              "      <td>0</td>\n",
              "      <td>...</td>\n",
              "      <td>0.0</td>\n",
              "      <td>0.0</td>\n",
              "      <td>0.0</td>\n",
              "      <td>0.0</td>\n",
              "      <td>0.0</td>\n",
              "      <td>0.0</td>\n",
              "      <td>0.0</td>\n",
              "      <td>0.0</td>\n",
              "      <td>0.0</td>\n",
              "      <td>0.0</td>\n",
              "    </tr>\n",
              "    <tr>\n",
              "      <th>1</th>\n",
              "      <td>0</td>\n",
              "      <td>0</td>\n",
              "      <td>0</td>\n",
              "      <td>0</td>\n",
              "      <td>0</td>\n",
              "      <td>0</td>\n",
              "      <td>0</td>\n",
              "      <td>0</td>\n",
              "      <td>0</td>\n",
              "      <td>0</td>\n",
              "      <td>...</td>\n",
              "      <td>0.0</td>\n",
              "      <td>0.0</td>\n",
              "      <td>0.0</td>\n",
              "      <td>0.0</td>\n",
              "      <td>0.0</td>\n",
              "      <td>0.0</td>\n",
              "      <td>0.0</td>\n",
              "      <td>0.0</td>\n",
              "      <td>0.0</td>\n",
              "      <td>0.0</td>\n",
              "    </tr>\n",
              "    <tr>\n",
              "      <th>2</th>\n",
              "      <td>1</td>\n",
              "      <td>0</td>\n",
              "      <td>0</td>\n",
              "      <td>0</td>\n",
              "      <td>0</td>\n",
              "      <td>0</td>\n",
              "      <td>0</td>\n",
              "      <td>0</td>\n",
              "      <td>0</td>\n",
              "      <td>0</td>\n",
              "      <td>...</td>\n",
              "      <td>0.0</td>\n",
              "      <td>0.0</td>\n",
              "      <td>0.0</td>\n",
              "      <td>0.0</td>\n",
              "      <td>0.0</td>\n",
              "      <td>0.0</td>\n",
              "      <td>0.0</td>\n",
              "      <td>0.0</td>\n",
              "      <td>0.0</td>\n",
              "      <td>0.0</td>\n",
              "    </tr>\n",
              "    <tr>\n",
              "      <th>3</th>\n",
              "      <td>4</td>\n",
              "      <td>0</td>\n",
              "      <td>0</td>\n",
              "      <td>0</td>\n",
              "      <td>0</td>\n",
              "      <td>0</td>\n",
              "      <td>0</td>\n",
              "      <td>0</td>\n",
              "      <td>0</td>\n",
              "      <td>0</td>\n",
              "      <td>...</td>\n",
              "      <td>0.0</td>\n",
              "      <td>0.0</td>\n",
              "      <td>0.0</td>\n",
              "      <td>0.0</td>\n",
              "      <td>0.0</td>\n",
              "      <td>0.0</td>\n",
              "      <td>0.0</td>\n",
              "      <td>0.0</td>\n",
              "      <td>0.0</td>\n",
              "      <td>0.0</td>\n",
              "    </tr>\n",
              "    <tr>\n",
              "      <th>4</th>\n",
              "      <td>0</td>\n",
              "      <td>0</td>\n",
              "      <td>0</td>\n",
              "      <td>0</td>\n",
              "      <td>0</td>\n",
              "      <td>0</td>\n",
              "      <td>0</td>\n",
              "      <td>0</td>\n",
              "      <td>0</td>\n",
              "      <td>0</td>\n",
              "      <td>...</td>\n",
              "      <td>0.0</td>\n",
              "      <td>0.0</td>\n",
              "      <td>0.0</td>\n",
              "      <td>0.0</td>\n",
              "      <td>0.0</td>\n",
              "      <td>0.0</td>\n",
              "      <td>0.0</td>\n",
              "      <td>0.0</td>\n",
              "      <td>0.0</td>\n",
              "      <td>0.0</td>\n",
              "    </tr>\n",
              "  </tbody>\n",
              "</table>\n",
              "<p>5 rows × 785 columns</p>\n",
              "</div>\n",
              "      <button class=\"colab-df-convert\" onclick=\"convertToInteractive('df-979f5a7d-4432-4d95-ac8b-8ee099cda314')\"\n",
              "              title=\"Convert this dataframe to an interactive table.\"\n",
              "              style=\"display:none;\">\n",
              "        \n",
              "  <svg xmlns=\"http://www.w3.org/2000/svg\" height=\"24px\"viewBox=\"0 0 24 24\"\n",
              "       width=\"24px\">\n",
              "    <path d=\"M0 0h24v24H0V0z\" fill=\"none\"/>\n",
              "    <path d=\"M18.56 5.44l.94 2.06.94-2.06 2.06-.94-2.06-.94-.94-2.06-.94 2.06-2.06.94zm-11 1L8.5 8.5l.94-2.06 2.06-.94-2.06-.94L8.5 2.5l-.94 2.06-2.06.94zm10 10l.94 2.06.94-2.06 2.06-.94-2.06-.94-.94-2.06-.94 2.06-2.06.94z\"/><path d=\"M17.41 7.96l-1.37-1.37c-.4-.4-.92-.59-1.43-.59-.52 0-1.04.2-1.43.59L10.3 9.45l-7.72 7.72c-.78.78-.78 2.05 0 2.83L4 21.41c.39.39.9.59 1.41.59.51 0 1.02-.2 1.41-.59l7.78-7.78 2.81-2.81c.8-.78.8-2.07 0-2.86zM5.41 20L4 18.59l7.72-7.72 1.47 1.35L5.41 20z\"/>\n",
              "  </svg>\n",
              "      </button>\n",
              "      \n",
              "  <style>\n",
              "    .colab-df-container {\n",
              "      display:flex;\n",
              "      flex-wrap:wrap;\n",
              "      gap: 12px;\n",
              "    }\n",
              "\n",
              "    .colab-df-convert {\n",
              "      background-color: #E8F0FE;\n",
              "      border: none;\n",
              "      border-radius: 50%;\n",
              "      cursor: pointer;\n",
              "      display: none;\n",
              "      fill: #1967D2;\n",
              "      height: 32px;\n",
              "      padding: 0 0 0 0;\n",
              "      width: 32px;\n",
              "    }\n",
              "\n",
              "    .colab-df-convert:hover {\n",
              "      background-color: #E2EBFA;\n",
              "      box-shadow: 0px 1px 2px rgba(60, 64, 67, 0.3), 0px 1px 3px 1px rgba(60, 64, 67, 0.15);\n",
              "      fill: #174EA6;\n",
              "    }\n",
              "\n",
              "    [theme=dark] .colab-df-convert {\n",
              "      background-color: #3B4455;\n",
              "      fill: #D2E3FC;\n",
              "    }\n",
              "\n",
              "    [theme=dark] .colab-df-convert:hover {\n",
              "      background-color: #434B5C;\n",
              "      box-shadow: 0px 1px 3px 1px rgba(0, 0, 0, 0.15);\n",
              "      filter: drop-shadow(0px 1px 2px rgba(0, 0, 0, 0.3));\n",
              "      fill: #FFFFFF;\n",
              "    }\n",
              "  </style>\n",
              "\n",
              "      <script>\n",
              "        const buttonEl =\n",
              "          document.querySelector('#df-979f5a7d-4432-4d95-ac8b-8ee099cda314 button.colab-df-convert');\n",
              "        buttonEl.style.display =\n",
              "          google.colab.kernel.accessAllowed ? 'block' : 'none';\n",
              "\n",
              "        async function convertToInteractive(key) {\n",
              "          const element = document.querySelector('#df-979f5a7d-4432-4d95-ac8b-8ee099cda314');\n",
              "          const dataTable =\n",
              "            await google.colab.kernel.invokeFunction('convertToInteractive',\n",
              "                                                     [key], {});\n",
              "          if (!dataTable) return;\n",
              "\n",
              "          const docLinkHtml = 'Like what you see? Visit the ' +\n",
              "            '<a target=\"_blank\" href=https://colab.research.google.com/notebooks/data_table.ipynb>data table notebook</a>'\n",
              "            + ' to learn more about interactive tables.';\n",
              "          element.innerHTML = '';\n",
              "          dataTable['output_type'] = 'display_data';\n",
              "          await google.colab.output.renderOutput(dataTable, element);\n",
              "          const docLink = document.createElement('div');\n",
              "          docLink.innerHTML = docLinkHtml;\n",
              "          element.appendChild(docLink);\n",
              "        }\n",
              "      </script>\n",
              "    </div>\n",
              "  </div>\n",
              "  "
            ]
          },
          "metadata": {},
          "execution_count": 23
        }
      ],
      "source": [
        "data.head()"
      ]
    },
    {
      "cell_type": "code",
      "execution_count": 24,
      "metadata": {
        "id": "ulZrgv9AfPAJ"
      },
      "outputs": [],
      "source": [
        "Y = data['label']\n",
        "X = data.drop('label', axis= 1)\n",
        "X = np.array(X)\n",
        "Y = np.array(Y)"
      ]
    },
    {
      "cell_type": "code",
      "execution_count": 25,
      "metadata": {
        "id": "rlTr0Pp_fSf0"
      },
      "outputs": [],
      "source": [
        "train_x, test_x, train_y, test_y = train_test_split(X, Y, shuffle= True,test_size= 0.2)"
      ]
    },
    {
      "cell_type": "code",
      "execution_count": 26,
      "metadata": {
        "colab": {
          "base_uri": "https://localhost:8080/"
        },
        "id": "Cnm6WJNAfV92",
        "outputId": "2c8a4351-679a-4244-d57c-a4e203ad554d"
      },
      "outputs": [
        {
          "output_type": "execute_result",
          "data": {
            "text/plain": [
              "numpy.ndarray"
            ]
          },
          "metadata": {},
          "execution_count": 26
        }
      ],
      "source": [
        "type(train_x)\n"
      ]
    },
    {
      "cell_type": "code",
      "execution_count": 27,
      "metadata": {
        "id": "W_TsWhWbfYdh"
      },
      "outputs": [],
      "source": [
        "train_x = (train_x / 255.) #RGB"
      ]
    },
    {
      "cell_type": "code",
      "execution_count": 28,
      "metadata": {
        "colab": {
          "base_uri": "https://localhost:8080/"
        },
        "id": "5M4Cdt65fbPD",
        "outputId": "4498565e-d115-4e61-da8e-435c9ca53ca1"
      },
      "outputs": [
        {
          "output_type": "execute_result",
          "data": {
            "text/plain": [
              "numpy.ndarray"
            ]
          },
          "metadata": {},
          "execution_count": 28
        }
      ],
      "source": [
        "type(train_x)"
      ]
    },
    {
      "cell_type": "code",
      "execution_count": 29,
      "metadata": {
        "id": "h4VsSfeKjmgL"
      },
      "outputs": [],
      "source": [
        "m, n = train_x.shape\n"
      ]
    },
    {
      "cell_type": "code",
      "execution_count": 30,
      "metadata": {
        "colab": {
          "base_uri": "https://localhost:8080/"
        },
        "id": "FLVRymGzjmxj",
        "outputId": "0c54e14c-d323-497f-9aa9-1666f092565d"
      },
      "outputs": [
        {
          "output_type": "execute_result",
          "data": {
            "text/plain": [
              "array([2, 3, 6, ..., 9, 8, 7])"
            ]
          },
          "metadata": {},
          "execution_count": 30
        }
      ],
      "source": [
        "train_y"
      ]
    },
    {
      "cell_type": "code",
      "execution_count": 31,
      "metadata": {
        "id": "AJHZJymkfbVp"
      },
      "outputs": [],
      "source": [
        "def init_params(input_n, middle_n, output_n, classes_n= 10):\n",
        "    W1 = np.random.rand(middle_n, input_n) * 0.01\n",
        "    b1 = np.zeros((middle_n, 1))\n",
        "    \n",
        "    W2 = np.random.rand(output_n, middle_n) * 0.01\n",
        "    b2 = np.zeros((output_n, 1))\n",
        "    \n",
        "    W3 = np.random.rand(classes_n, output_n) * 0.01\n",
        "    b3 = np.zeros((classes_n, 1))\n",
        "    return W1, b1, W2, b2, W3, b3\n"
      ]
    },
    {
      "cell_type": "code",
      "execution_count": null,
      "metadata": {
        "colab": {
          "background_save": true
        },
        "id": "OIDX2Pu3kVoY"
      },
      "outputs": [],
      "source": []
    },
    {
      "cell_type": "code",
      "execution_count": 32,
      "metadata": {
        "id": "H8B4LFd0fmFg"
      },
      "outputs": [],
      "source": [
        "def ReLU(Z, der= False):\n",
        "    if der == False:\n",
        "        return np.maximum(Z, 0)\n",
        "    else:\n",
        "        return Z > 0"
      ]
    },
    {
      "cell_type": "code",
      "execution_count": 33,
      "metadata": {
        "id": "b41LnZgsfpMY"
      },
      "outputs": [],
      "source": [
        "def sigmoid(Z, der= False): \n",
        "    if der == False:\n",
        "        return (1/(1 + np.exp(-Z)))\n",
        "    else:\n",
        "        return (1 - sigmoid(Z))"
      ]
    },
    {
      "cell_type": "code",
      "execution_count": 34,
      "metadata": {
        "id": "EJRKOTU8frth"
      },
      "outputs": [],
      "source": [
        "def softmax(Z): \n",
        "        return (np.exp(Z) / sum(np.exp(Z)))"
      ]
    },
    {
      "cell_type": "code",
      "execution_count": 35,
      "metadata": {
        "id": "GF6Tcfv8kSW6"
      },
      "outputs": [],
      "source": [
        "def forward_prop(W1, b1, W2, b2, W3, b3, X):\n",
        "    # node 1\n",
        "    Z1 = np.dot(W1, X) + b1\n",
        "    A1 = sigmoid(Z1)\n",
        "    \n",
        "    # node 2\n",
        "    Z2 = np.dot(W2, A1) + b2\n",
        "    A2 = sigmoid(Z2)\n",
        "    \n",
        "    # node 3\n",
        "    Z3 = np.dot(W3, A2) + b3\n",
        "    A3 = softmax(Z3)\n",
        "    \n",
        "    return Z1, A1, Z2, A2, Z3, A3"
      ]
    },
    {
      "cell_type": "code",
      "execution_count": 36,
      "metadata": {
        "id": "wPhXMXCdkXNn"
      },
      "outputs": [],
      "source": [
        "def one_hot(Y):\n",
        "    one_hot_Y = np.zeros((Y.size, Y.max() + 1))\n",
        "    one_hot_Y[np.arange(Y.size), Y] = 1\n",
        "    one_hot_Y = one_hot_Y.T\n",
        "    return one_hot_Y"
      ]
    },
    {
      "cell_type": "code",
      "execution_count": 37,
      "metadata": {
        "id": "TrHNEbRJkbiP"
      },
      "outputs": [],
      "source": [
        "def backward_prop(Z1, A1, Z2, A2, Z3, A3, W1, W2, W3, X, Y):\n",
        "    one_hot_Y = one_hot(Y)\n",
        "    \n",
        "    dZ3 = A3 - one_hot_Y\n",
        "    dW3 = 1 / m * np.dot(dZ3, A2.T)\n",
        "    db3 = 1 / m * np.sum(dZ3, axis= 1, keepdims= True)\n",
        "    \n",
        "    dZ2 = np.dot(W3.T, dZ3) * sigmoid(Z2, True)\n",
        "    dW2 = 1 / m * np.dot(dZ2, A1.T)\n",
        "    db2 = 1 / m * np.sum(dZ2, axis= 1, keepdims= True)\n",
        "    \n",
        "    dZ1 = np.dot(W2.T, dZ2) * sigmoid(Z1, True)\n",
        "    dW1 = 1 / m * np.dot(dZ1, X.T)\n",
        "    db1 = 1 / m * np.sum(dZ1, axis= 1, keepdims= True)\n",
        "\n",
        "    return dW1, db1, dW2, db2, dW3, db3"
      ]
    },
    {
      "cell_type": "code",
      "execution_count": 38,
      "metadata": {
        "id": "lu34xgLZkfAL"
      },
      "outputs": [],
      "source": [
        "def update_params(W1, b1, W2, b2, W3, b3, dW1, db1, dW2, db2, dW3, db3, alpha):\n",
        "    \n",
        "    W1 = W1 - alpha * dW1\n",
        "    b1 = b1 - alpha * db1\n",
        "    \n",
        "    W2 = W2 - alpha * dW2  \n",
        "    b2 = b2 - alpha * db2\n",
        "    \n",
        "    W3 = W3 - alpha * dW3  \n",
        "    b3 = b3 - alpha * db3\n",
        "    \n",
        "    return W1, b1, W2, b2, W3, b3"
      ]
    },
    {
      "cell_type": "code",
      "execution_count": 39,
      "metadata": {
        "id": "nbrXncVokjfq"
      },
      "outputs": [],
      "source": [
        "def get_predictions(A3):\n",
        "    return np.argmax(A3, 0)"
      ]
    },
    {
      "cell_type": "code",
      "execution_count": 40,
      "metadata": {
        "id": "67G4bS_lkpyT"
      },
      "outputs": [],
      "source": [
        "def get_accuracy(predictions, Y):\n",
        "    print(predictions, Y)\n",
        "    return (np.sum(predictions == Y) / Y.size) "
      ]
    },
    {
      "cell_type": "code",
      "execution_count": 61,
      "metadata": {
        "id": "U3IhZ-xjkq2a"
      },
      "outputs": [],
      "source": [
        "def gradient_descent(X, Y, alpha, iterations):\n",
        "    W1, b1, W2, b2, W3, b3 = init_params(train_x.T.shape[0], 100, 10)\n",
        "    for i in range(iterations):\n",
        "        Z1, A1, Z2, A2, Z3, A3 = forward_prop(W1, b1, W2, b2, W3, b3, X)\n",
        "        dW1, db1, dW2, db2, dW3, db3 = backward_prop(Z1, A1, Z2, A2, Z3, A3, W1, W2, W3, X, Y)\n",
        "        W1, b1, W2, b2, W3, b3 = update_params(W1, b1, W2, b2, W3, b3, dW1, db1, dW2, db2, dW3, db3, alpha)\n",
        "        if i % 10 == 0:\n",
        "            print(\"Iteration: \", i)\n",
        "            predictions = get_predictions(A2)\n",
        "            print(get_accuracy(predictions, Y))\n",
        "    return W1, b1, W2, b2, W3, b3"
      ]
    },
    {
      "cell_type": "code",
      "execution_count": 62,
      "metadata": {
        "colab": {
          "base_uri": "https://localhost:8080/"
        },
        "id": "qXZgnWWPkwKb",
        "outputId": "089010ab-9b6e-4f47-a5a5-42fa0d65344f"
      },
      "outputs": [
        {
          "output_type": "stream",
          "name": "stdout",
          "text": [
            "Iteration:  0\n",
            "[1 1 1 ... 1 1 1] [2 3 6 ... 9 8 7]\n",
            "0.11094943615860313\n",
            "Iteration:  10\n",
            "[1 1 1 ... 1 1 1] [2 3 6 ... 9 8 7]\n",
            "0.11094943615860313\n",
            "Iteration:  20\n",
            "[1 1 1 ... 1 1 1] [2 3 6 ... 9 8 7]\n",
            "0.11094943615860313\n",
            "Iteration:  30\n",
            "[1 1 1 ... 1 1 1] [2 3 6 ... 9 8 7]\n",
            "0.11094943615860313\n",
            "Iteration:  40\n",
            "[1 1 1 ... 1 1 1] [2 3 6 ... 9 8 7]\n",
            "0.11094943615860313\n",
            "Iteration:  50\n",
            "[1 1 1 ... 1 1 1] [2 3 6 ... 9 8 7]\n",
            "0.11094943615860313\n",
            "Iteration:  60\n",
            "[1 1 1 ... 1 1 1] [2 3 6 ... 9 8 7]\n",
            "0.11094943615860313\n",
            "Iteration:  70\n",
            "[1 1 1 ... 1 1 1] [2 3 6 ... 9 8 7]\n",
            "0.11094943615860313\n",
            "Iteration:  80\n",
            "[1 1 1 ... 1 1 1] [2 3 6 ... 9 8 7]\n",
            "0.11094943615860313\n",
            "Iteration:  90\n",
            "[1 1 1 ... 1 1 1] [2 3 6 ... 9 8 7]\n",
            "0.11094943615860313\n",
            "Iteration:  100\n",
            "[1 1 1 ... 1 1 1] [2 3 6 ... 9 8 7]\n",
            "0.11094943615860313\n",
            "Iteration:  110\n",
            "[1 1 1 ... 1 1 1] [2 3 6 ... 9 8 7]\n",
            "0.11094943615860313\n",
            "Iteration:  120\n",
            "[1 1 1 ... 1 1 1] [2 3 6 ... 9 8 7]\n",
            "0.11094943615860313\n",
            "Iteration:  130\n",
            "[1 1 1 ... 1 1 1] [2 3 6 ... 9 8 7]\n",
            "0.11094943615860313\n",
            "Iteration:  140\n",
            "[1 1 1 ... 1 1 1] [2 3 6 ... 9 8 7]\n",
            "0.11822480902146235\n",
            "Iteration:  150\n",
            "[3 3 3 ... 3 3 3] [2 3 6 ... 9 8 7]\n",
            "0.08366678792288104\n",
            "Iteration:  160\n",
            "[3 3 3 ... 3 3 3] [2 3 6 ... 9 8 7]\n",
            "0.09457984721716987\n",
            "Iteration:  170\n",
            "[3 3 3 ... 3 3 3] [2 3 6 ... 9 8 7]\n",
            "0.09457984721716987\n",
            "Iteration:  180\n",
            "[3 3 3 ... 3 3 3] [2 3 6 ... 9 8 7]\n",
            "0.09457984721716987\n",
            "Iteration:  190\n",
            "[3 3 3 ... 3 3 3] [2 3 6 ... 9 8 7]\n",
            "0.09457984721716987\n",
            "Iteration:  200\n",
            "[3 3 3 ... 3 3 3] [2 3 6 ... 9 8 7]\n",
            "0.09457984721716987\n",
            "Iteration:  210\n",
            "[3 3 3 ... 3 3 3] [2 3 6 ... 9 8 7]\n",
            "0.09457984721716987\n",
            "Iteration:  220\n",
            "[3 3 3 ... 3 3 3] [2 3 6 ... 9 8 7]\n",
            "0.09457984721716987\n",
            "Iteration:  230\n",
            "[3 3 3 ... 3 3 3] [2 3 6 ... 9 8 7]\n",
            "0.09457984721716987\n",
            "Iteration:  240\n",
            "[3 3 3 ... 3 3 3] [2 3 6 ... 9 8 7]\n",
            "0.09457984721716987\n",
            "Iteration:  250\n",
            "[3 3 3 ... 3 3 3] [2 3 6 ... 9 8 7]\n",
            "0.09457984721716987\n",
            "Iteration:  260\n",
            "[3 3 3 ... 3 3 3] [2 3 6 ... 9 8 7]\n",
            "0.09457984721716987\n",
            "Iteration:  270\n",
            "[3 3 3 ... 3 3 3] [2 3 6 ... 9 8 7]\n",
            "0.09457984721716987\n",
            "Iteration:  280\n",
            "[3 3 3 ... 3 3 3] [2 3 6 ... 9 8 7]\n",
            "0.09457984721716987\n",
            "Iteration:  290\n",
            "[3 3 3 ... 3 3 3] [2 3 6 ... 9 8 7]\n",
            "0.09457984721716987\n"
          ]
        }
      ],
      "source": [
        "W1, b1, W2, b2, W3, b3 = gradient_descent(train_x.T, train_y, 0.10, 300)"
      ]
    },
    {
      "cell_type": "code",
      "execution_count": 63,
      "metadata": {
        "id": "hJYGfA0WlGsu"
      },
      "outputs": [],
      "source": [
        "def make_predictions(X, W1, b1, W2, b2, W3, b3):\n",
        "    _, _, _, _, _, A3 = forward_prop(W1, b1, W2, b2, W3, b3, X)\n",
        "    predictions = get_predictions(A3)\n",
        "    return predictions\n"
      ]
    },
    {
      "cell_type": "code",
      "execution_count": 64,
      "metadata": {
        "id": "B6aeSg0lk4gV"
      },
      "outputs": [],
      "source": [
        "def test_prediction(index, W1, b1, W2, b2, W3, b3):\n",
        "    current_image = train_x[index,:, None].T\n",
        "    print(current_image.shape)\n",
        "    prediction = make_predictions(train_x[index,:, None], W1, b1, W2, b2, W3, b3)\n",
        "    label = train_y[index]\n",
        "    print(\"Prediction: \", prediction)\n",
        "    print(\"Label: \", label)\n",
        "    current_image = current_image.reshape((28, 28)) * 255\n",
        "    plt.gray()\n",
        "    plt.imshow(current_image, interpolation='nearest')\n",
        "    plt.show()\n"
      ]
    },
    {
      "cell_type": "code",
      "execution_count": 65,
      "metadata": {
        "id": "BQCYVQtMsk_t"
      },
      "outputs": [],
      "source": [
        "def F1_score(y,y_hat):\n",
        "    tp,tn,fp,fn = 0,0,0,0\n",
        "    for i in range(len(y)):\n",
        "        if y[i] == 1 and y_hat[i] == 1:\n",
        "            tp += 1\n",
        "        elif y[i] == 1 and y_hat[i] == 0:\n",
        "            fn += 1\n",
        "        elif y[i] == 0 and y_hat[i] == 1:\n",
        "            fp += 1\n",
        "        elif y[i] == 0 and y_hat[i] == 0:\n",
        "            tn += 1\n",
        "    precision = tp/(tp+fp)\n",
        "    recall = tp/(tp+fn)\n",
        "    f1_score = 2*precision*recall/(precision+recall)\n",
        "    return f1_score,precision,recall"
      ]
    },
    {
      "cell_type": "code",
      "execution_count": 69,
      "metadata": {
        "id": "dZSD1bymk8qV",
        "outputId": "58d999ee-a9af-4a60-d539-402ef8c5c359",
        "colab": {
          "base_uri": "https://localhost:8080/"
        }
      },
      "outputs": [
        {
          "output_type": "stream",
          "name": "stdout",
          "text": [
            "[1 1 1 1 1 1 1 1 1 1 1 1 1 1 1 1 1 1 1 1 1 1 1 1 1 1 1 1 1 1 1 1 1 1 1 1 1\n",
            " 1 1 1 1 1 1 1 1 1 1 1 1 1 1 1 1 1 1 1 1 1 1 1 1 1 1 1 1 1 1 1 1 1 1 1 1 1\n",
            " 1 1 1 1 1 1 1 1 1 1 1 1 1 1 1 1 1 1 1 1 1 1 1 1 1 1 1 1 1 1 1 1 1 1 1 1 1\n",
            " 1 1 1 1 1 1 1 1 1 1 1 1 1 1 1 1 1 1 1 1 1 1 1 1 1 1 1 1 1 1 1 1 1 1 1 1 1\n",
            " 1 1 1 1 1 1 1 1 1 1 1 1 1 1 1 1 1 1 1 1 1 1 1 1 1 1 1 1 1 1 1 1 1 1 1 1 1\n",
            " 1 1 1 1 1 1 1 1 1 1 1 1 1 1 1 1 1 1 1 1 1 1 1 1 1 1 1 1 1 1 1 1 1 1 1 1 1\n",
            " 1 1 1 1 1 1 1 1 1 1 1 1 1 1 1 1 1 1 1 1 1 1 1 1 1 1 1 1 1 1 1 1 1 1 1 1 1\n",
            " 1 1 1 1 1 1 1 1 1 1 1 1 1 1 1 1 1 1 1 1 1 1 1 1 1 1 1 1 1 1 1 1 1 1 1 1 1\n",
            " 1 1 1 1 1 1 1 1 1 1 1 1 1 1 1 1 1 1 1 1 1 1 1 1 1 1 1 1 1 1 1 1 1 1 1 1 1\n",
            " 1 1 1 1 1 1 1 1 1 1 1 1 1 1 1 1 1 1 1 1 1 1 1 1 1 1 1 1 1 1 1 1 1 1 1 1 1\n",
            " 1 1 1 1 1 1 1 1 1 1 1 1 1 1 1 1 1 1 1 1 1 1 1 1 1 1 1 1 1 1 1 1 1 1 1 1 1\n",
            " 1 1 1 1 1 1 1 1 1 1 1 1 1 1 1 1 1 1 1 1 1 1 1 1 1 1 1 1 1 1 1 1 1 1 1 1 1\n",
            " 1 1 1 1 1 1 1 1 1 1 1 1 1 1 1 1 1 1 1 1 1 1 1 1 1 1 1 1 1 1 1 1 1 1 1 1 1\n",
            " 1 1 1 1 1 1 1 1 1 1 1 1 1 1 1 1 1 1 1 1 1 1 1 1 1 1 1 1 1 1 1 1 1 1 1 1 1\n",
            " 1 1 1 1 1 1 1 1 1 1 1 1 1 1 1 1 1 1 1 1 1 1 1 1 1 1 1 1 1 1 1 1 1 1 1 1 1\n",
            " 1 1 1 1 1 1 1 1 1 1 1 1 1 1 1 1 1 1 1 1 1 1 1 1 1 1 1 1 1 1 1 1 1 1 1 1 1\n",
            " 1 1 1 1 1 1 1 1 1 1 1 1 1 1 1 1 1 1 1 1 1 1 1 1 1 1 1 1 1 1 1 1 1 1 1 1 1\n",
            " 1 1 1 1 1 1 1 1 1 1 1 1 1 0 1 1 1 1 1 1 1 1 1 1 1 1 1 1 1 1 1 1 1 1 1 1 1\n",
            " 1 1 1 1 1 1 1 1 1 1 1 1 1 1 1 1 1 1 1 1 1 1] [3 4 1 5 2 3 9 5 3 3 2 4 3 5 0 1 0 8 8 9 6 0 2 3 4 2 1 5 5 4 6 5 3 9 9 4 1\n",
            " 2 2 0 1 4 4 2 4 1 0 1 0 7 5 9 1 0 4 8 4 0 5 9 2 4 4 5 8 5 4 9 2 7 4 6 9 9\n",
            " 2 8 1 1 7 4 9 9 4 3 6 1 6 3 0 3 9 7 5 4 0 7 6 8 5 3 6 7 6 6 5 1 2 2 5 7 9\n",
            " 2 9 3 0 7 0 7 3 2 9 4 4 1 7 1 4 9 1 4 9 9 9 5 1 6 2 2 4 0 5 8 9 3 0 0 0 3\n",
            " 0 9 0 5 0 8 0 6 7 2 1 3 9 0 0 1 8 2 9 9 9 1 2 7 4 6 1 7 1 6 7 2 5 1 8 4 1\n",
            " 4 8 9 4 6 2 6 6 9 3 8 2 7 3 5 0 5 8 9 0 2 1 7 5 5 4 2 9 2 7 2 1 9 8 5 9 5\n",
            " 1 8 6 4 8 7 2 6 6 5 2 7 8 6 3 6 4 9 3 8 3 1 4 1 7 6 0 7 9 7 4 7 5 6 4 7 7\n",
            " 8 9 1 1 1 0 5 7 6 2 8 0 4 1 2 5 2 6 2 2 6 2 0 7 6 5 7 6 5 2 6 4 8 1 8 0 5\n",
            " 6 8 0 5 4 8 3 4 8 3 3 0 4 3 6 8 4 9 5 0 1 2 5 7 1 2 2 8 9 8 7 1 3 4 9 3 0\n",
            " 4 2 9 1 5 7 0 2 9 7 7 1 9 5 7 5 8 8 5 2 5 4 0 8 6 4 4 2 7 5 9 7 5 5 7 3 9\n",
            " 7 8 6 0 7 8 5 6 1 1 2 3 8 3 0 8 2 9 3 7 5 7 0 4 2 0 8 7 3 1 6 3 2 8 4 0 2\n",
            " 3 6 6 1 5 3 7 2 6 6 1 2 9 2 2 9 1 2 2 5 2 6 3 8 6 8 6 8 2 5 6 9 7 7 8 7 2\n",
            " 5 6 7 8 7 7 8 4 2 2 8 2 2 1 6 6 5 4 7 3 8 0 5 8 4 2 6 6 5 6 0 1 4 6 6 1 5\n",
            " 3 1 6 9 0 4 7 6 6 5 0 2 9 6 0 3 8 7 0 0 9 2 6 5 2 7 2 2 1 6 2 7 9 3 5 9 7\n",
            " 7 9 8 3 3 3 1 5 1 2 5 1 2 2 1 7 1 1 1 6 0 5 8 9 7 3 4 6 1 0 0 5 3 3 1 7 4\n",
            " 0 7 5 9 8 6 3 0 5 7 0 0 6 8 0 3 9 0 5 9 7 0 1 3 1 2 9 9 4 7 4 0 6 1 6 8 6\n",
            " 5 6 8 7 2 0 2 9 8 1 2 7 9 4 6 1 3 1 5 8 1 2 8 8 4 7 1 4 2 4 0 5 2 4 4 4 4\n",
            " 5 8 8 6 5 0 1 6 7 7 3 8 3 5 7 1 1 1 3 4 1 8 4 4 2 9 6 0 6 7 7 9 9 3 1 0 1\n",
            " 0 4 4 1 1 2 2 6 2 0 8 1 4 0 6 0 1 6 2 5 8 6]\n",
            "Accuracy is  0.1119186046511628\n"
          ]
        }
      ],
      "source": [
        "y_hat = make_predictions(test_x.T, W1, b1, W2, b2, W3, b3)\n",
        "print('Accuracy is ', get_accuracy(y_hat, test_y))\n",
        "\n",
        "\n"
      ]
    },
    {
      "cell_type": "code",
      "execution_count": 67,
      "metadata": {
        "id": "IsW4ewiwqxNW"
      },
      "outputs": [],
      "source": [
        "f1_score, percision, recall = F1_score(test_y, y_hat)"
      ]
    },
    {
      "cell_type": "code",
      "execution_count": 68,
      "metadata": {
        "colab": {
          "base_uri": "https://localhost:8080/"
        },
        "id": "rB6Fv58grBr9",
        "outputId": "85b4c134-e75a-473a-d806-e2f4deb9fc0d"
      },
      "outputs": [
        {
          "output_type": "stream",
          "name": "stdout",
          "text": [
            "0.6968325791855203 0.5347222222222222 1.0\n"
          ]
        }
      ],
      "source": [
        "print(f1_score, percision, recall)"
      ]
    }
  ],
  "metadata": {
    "colab": {
      "provenance": []
    },
    "kernelspec": {
      "display_name": "Python 3",
      "name": "python3"
    },
    "language_info": {
      "name": "python"
    }
  },
  "nbformat": 4,
  "nbformat_minor": 0
}